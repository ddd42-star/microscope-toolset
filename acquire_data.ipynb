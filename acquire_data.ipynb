{
 "cells": [
  {
   "cell_type": "markdown",
   "metadata": {},
   "source": [
    "### Retrieve data from different type of source"
   ]
  },
  {
   "cell_type": "code",
   "execution_count": 3,
   "metadata": {},
   "outputs": [
    {
     "name": "stdout",
     "output_type": "stream",
     "text": [
      "Collecting google-search-results\n",
      "  Downloading google_search_results-2.4.2.tar.gz (18 kB)\n",
      "  Preparing metadata (setup.py): started\n",
      "  Preparing metadata (setup.py): finished with status 'done'\n",
      "Requirement already satisfied: requests in c:\\users\\dario\\anaconda3\\envs\\masterthesis\\lib\\site-packages (from google-search-results) (2.32.3)\n",
      "Requirement already satisfied: charset_normalizer<4,>=2 in c:\\users\\dario\\anaconda3\\envs\\masterthesis\\lib\\site-packages (from requests->google-search-results) (3.4.1)\n",
      "Requirement already satisfied: idna<4,>=2.5 in c:\\users\\dario\\anaconda3\\envs\\masterthesis\\lib\\site-packages (from requests->google-search-results) (3.10)\n",
      "Requirement already satisfied: urllib3<3,>=1.21.1 in c:\\users\\dario\\anaconda3\\envs\\masterthesis\\lib\\site-packages (from requests->google-search-results) (1.26.20)\n",
      "Requirement already satisfied: certifi>=2017.4.17 in c:\\users\\dario\\anaconda3\\envs\\masterthesis\\lib\\site-packages (from requests->google-search-results) (2025.1.31)\n",
      "Building wheels for collected packages: google-search-results\n",
      "  Building wheel for google-search-results (setup.py): started\n",
      "  Building wheel for google-search-results (setup.py): finished with status 'done'\n",
      "  Created wheel for google-search-results: filename=google_search_results-2.4.2-py3-none-any.whl size=32142 sha256=e08f56e3c4c5d292810ce475969b5429a7fb25a04a4718100bf813380a293f3f\n",
      "  Stored in directory: c:\\users\\dario\\appdata\\local\\pip\\cache\\wheels\\68\\8e\\73\\744b7d9d7ac618849d93081a20e1c0deccd2aef90901c9f5a9\n",
      "Successfully built google-search-results\n",
      "Installing collected packages: google-search-results\n",
      "Successfully installed google-search-results-2.4.2\n",
      "Note: you may need to restart the kernel to use updated packages.\n"
     ]
    }
   ],
   "source": [
    "pip install google-search-results"
   ]
  },
  {
   "cell_type": "code",
   "execution_count": null,
   "metadata": {},
   "outputs": [
    {
     "name": "stdout",
     "output_type": "stream",
     "text": [
      "Total 1000 publications saved to publications.txt\n"
     ]
    }
   ],
   "source": [
    "from serpapi import GoogleSearch\n",
    "import json\n",
    "\n",
    "def fetch_google_scholar(query, output_file):\n",
    "    params = {\n",
    "        \"engine\": \"google_scholar\",\n",
    "        \"q\": query,\n",
    "        \"api_key\": \"\",\n",
    "        \"num\": 20,  # Number of results per page (max 20)\n",
    "        \"start\": 0   # Pagination start index\n",
    "    }\n",
    "\n",
    "    all_publications = []\n",
    "    while True:\n",
    "        search = GoogleSearch(params)\n",
    "        results = search.get_dict()\n",
    "        publications = results.get(\"organic_results\", [])\n",
    "        \n",
    "        if not publications:\n",
    "            break  # Stop if no more results\n",
    "        \n",
    "        all_publications.extend(publications)\n",
    "        params[\"start\"] += 20  # Move to next page\n",
    "\n",
    "    with open(output_file, \"w\", encoding=\"utf-8\") as file:\n",
    "        for pub in all_publications:\n",
    "            title = pub.get(\"title\", \"No Title\")\n",
    "            link = pub.get(\"link\", \"No Link\")\n",
    "            file.write(f\"{title} - {link}\\n\")\n",
    "\n",
    "    print(f\"Total {len(all_publications)} publications saved to {output_file}\")\n",
    "\n",
    "# Example usage\n",
    "fetch_google_scholar(\"Olivier Pertz\", \"publications.txt\")\n"
   ]
  }
 ],
 "metadata": {
  "kernelspec": {
   "display_name": "masterThesis",
   "language": "python",
   "name": "python3"
  },
  "language_info": {
   "codemirror_mode": {
    "name": "ipython",
    "version": 3
   },
   "file_extension": ".py",
   "mimetype": "text/x-python",
   "name": "python",
   "nbconvert_exporter": "python",
   "pygments_lexer": "ipython3",
   "version": "3.9.21"
  }
 },
 "nbformat": 4,
 "nbformat_minor": 2
}
